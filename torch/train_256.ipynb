{
 "cells": [
  {
   "cell_type": "markdown",
   "metadata": {},
   "source": [
    "# 下載vgg_face預訓練模型檔"
   ]
  },
  {
   "cell_type": "code",
   "execution_count": 2,
   "metadata": {},
   "outputs": [
    {
     "name": "stderr",
     "output_type": "stream",
     "text": [
      "553MB [00:05, 99.9MB/s]\n"
     ]
    }
   ],
   "source": [
    "%%bash\n",
    "cd ../\n",
    "python download_gdrive.py 1ViZbFQYKqs1IQixLYa2tqUeVLbnxe9sN ./torch/vgg_face_dag.pth\n",
    "#or\n",
    "#wget http://www.robots.ox.ac.uk/~albanie/models/pytorch-mcn/vgg_face_dag.pth"
   ]
  },
  {
   "cell_type": "markdown",
   "metadata": {},
   "source": [
    "# 下載範例數據檔"
   ]
  },
  {
   "cell_type": "raw",
   "metadata": {},
   "source": [
    "%%bash\n",
    "cd ../\n",
    "mkdir data"
   ]
  },
  {
   "cell_type": "raw",
   "metadata": {},
   "source": [
    "%%bash\n",
    "cd ../\n",
    "#cd ../download_google_drive\n",
    "python download_gdrive.py 1RaMhxlgP6v9iUoWTv_EULj8hN7H01KJY ./data/Alice_Eve_qARhKvGWef0_1.npy\n",
    "#https://drive.google.com/file/d/1RaMhxlgP6v9iUoWTv_EULj8hN7H01KJY/view?usp=sharing\n",
    "python download_gdrive.py 1IvoLL2WmwRu6CM9v5iq2C6N1dv2eGyKr ./data/Bruno_Mars_gmn2h7a4dRE_7.npy\n",
    "#https://drive.google.com/file/d/1IvoLL2WmwRu6CM9v5iq2C6N1dv2eGyKr/view?usp=sharing\n",
    "python download_gdrive.py 1WETD7sXIcoyyCcPMYZsnUGDpb_5-KIKN ./data/Nancy_Cartwright_F2KB8z7-T-w_8.npy\n",
    "#https://drive.google.com/open?id=1WETD7sXIcoyyCcPMYZsnUGDpb_5-KIKN\n",
    "python download_gdrive.py 1VWukYz6QtEAY2KnQWewZMwfET_SoXLSJ ./data/Rob_Reiner_Vzqmi3MAixQ_121.npy\n",
    "#https://drive.google.com/open?id=1VWukYz6QtEAY2KnQWewZMwfET_SoXLSJ"
   ]
  },
  {
   "cell_type": "markdown",
   "metadata": {},
   "source": [
    "# 程式開始"
   ]
  },
  {
   "cell_type": "raw",
   "metadata": {},
   "source": [
    "! pip install torch==1.2"
   ]
  },
  {
   "cell_type": "code",
   "execution_count": 3,
   "metadata": {},
   "outputs": [],
   "source": [
    "! mkdir result model"
   ]
  },
  {
   "cell_type": "code",
   "execution_count": 4,
   "metadata": {},
   "outputs": [],
   "source": [
    "import numpy as np\n",
    "import matplotlib.pyplot as plt\n",
    "\n",
    "import torch\n",
    "import torch.nn as nn\n",
    "import torch.optim as optim\n",
    "from torch.utils.data import DataLoader\n",
    "\n",
    "from vgg import vggface\n",
    "from torchvision.models import vgg19\n",
    "from torchvision.utils import save_image\n",
    "\n",
    "from dataloader import *\n",
    "#from model import *\n",
    "from model_256 import *\n",
    "from loss import *\n",
    "from run_utils import *"
   ]
  },
  {
   "cell_type": "code",
   "execution_count": 5,
   "metadata": {},
   "outputs": [
    {
     "data": {
      "text/plain": [
       "'1.2.0'"
      ]
     },
     "execution_count": 5,
     "metadata": {},
     "output_type": "execute_result"
    }
   ],
   "source": [
    "torch.__version__ "
   ]
  },
  {
   "cell_type": "code",
   "execution_count": 7,
   "metadata": {},
   "outputs": [
    {
     "name": "stdout",
     "output_type": "stream",
     "text": [
      "160\n"
     ]
    }
   ],
   "source": [
    "ds = VoxCelebDataset(root='../../et082-group15/data/160/', K=8, size=256)\n",
    "print(len(ds))"
   ]
  },
  {
   "cell_type": "code",
   "execution_count": 8,
   "metadata": {},
   "outputs": [],
   "source": [
    "data_loader = DataLoader(ds, batch_size=1,shuffle=True,num_workers=0,pin_memory=True)"
   ]
  },
  {
   "cell_type": "code",
   "execution_count": 9,
   "metadata": {},
   "outputs": [],
   "source": [
    "E = Embedder().cuda()\n",
    "G = Generator().cuda()\n",
    "D = Discriminator(num_videos=1067).cuda()"
   ]
  },
  {
   "cell_type": "raw",
   "metadata": {},
   "source": [
    "# load previous data\n",
    "E,G,D = load_model(E,G,D, load_model_folder=\"./model/\", postfix=\"85\")"
   ]
  },
  {
   "cell_type": "code",
   "execution_count": 10,
   "metadata": {},
   "outputs": [
    {
     "name": "stdout",
     "output_type": "stream",
     "text": [
      "torch.Size([1, 3, 256, 256]) torch.Size([1, 8, 6, 256, 256])\n",
      "batch_size is 1 !!\n"
     ]
    },
    {
     "data": {
      "image/png": "[encoded data removed]",
      "text/plain": [
       "<Figure size 432x288 with 1 Axes>"
      ]
     },
     "metadata": {
      "needs_background": "light"
     },
     "output_type": "display_data"
    }
   ],
   "source": [
    "i , source_landmark , target_frame , context = next(iter(data_loader)) \n",
    "print( source_landmark.shape, context.shape )\n",
    "save_n_draw_result(E, G, source_landmark , target_frame , context,\n",
    "                  save_out_img=False\n",
    "                   )"
   ]
  },
  {
   "cell_type": "code",
   "execution_count": 11,
   "metadata": {},
   "outputs": [],
   "source": [
    "optim_EG = optim.Adam(list(E.parameters())+list(G.parameters()) , lr=5e-5)\n",
    "optim_D = optim.Adam(D.parameters() , lr=2e-4)"
   ]
  },
  {
   "cell_type": "raw",
   "metadata": {},
   "source": [
    "%%time\n",
    "epochs = 1\n",
    "for epoch in range(epochs):\n",
    "    print(epoch)\n",
    "    for i , source_landmark , target_frame , context in data_loader:\n",
    "        \n",
    "        source_landmark , target_frame , context = \\\n",
    "        source_landmark.cuda() , target_frame.cuda() , context.cuda()\n",
    "        \n",
    "        target_frame_, emb , i = \\\n",
    "        train_step(i , source_landmark , target_frame , context,\n",
    "                   set_W=True)"
   ]
  },
  {
   "cell_type": "raw",
   "metadata": {},
   "source": [
    "i , source_landmark , target_frame , context = next(iter(data_loader)) \n",
    "print( source_landmark.shape, context.shape )"
   ]
  },
  {
   "cell_type": "raw",
   "metadata": {},
   "source": [
    "save_n_draw_result(E, G, source_landmark , target_frame , context)"
   ]
  },
  {
   "cell_type": "raw",
   "metadata": {},
   "source": [
    "save_model(E, G, D, save_model_folder=\"./model/\", postfix=\"0\")"
   ]
  },
  {
   "cell_type": "code",
   "execution_count": 15,
   "metadata": {},
   "outputs": [
    {
     "name": "stdout",
     "output_type": "stream",
     "text": [
      "0\n",
      "loss:1.1198, loss_D:268.2107, loss_EG:-267.0909\n",
      "batch_size is 1 !!\n"
     ]
    },
    {
     "data": {
      "image/png": "[encoded data removed]",
      "text/plain": [
       "<Figure size 432x288 with 1 Axes>"
      ]
     },
     "metadata": {
      "needs_background": "light"
     },
     "output_type": "display_data"
    },
    {
     "name": "stdout",
     "output_type": "stream",
     "text": [
      "1\n",
      "loss:1.1233, loss_D:262.3751, loss_EG:-261.2518\n",
      "batch_size is 1 !!\n"
     ]
    },
    {
     "data": {
      "image/png": "[encoded data removed]",
      "text/plain": [
       "<Figure size 432x288 with 1 Axes>"
      ]
     },
     "metadata": {
      "needs_background": "light"
     },
     "output_type": "display_data"
    },
    {
     "name": "stdout",
     "output_type": "stream",
     "text": [
      "2\n"
     ]
    },
    {
     "ename": "KeyboardInterrupt",
     "evalue": "",
     "output_type": "error",
     "traceback": [
      "\u001b[0;31m---------------------------------------------------------------------------\u001b[0m",
      "\u001b[0;31mKeyboardInterrupt\u001b[0m                         Traceback (most recent call last)",
      "\u001b[0;32m<ipython-input-15-453807de7e99>\u001b[0m in \u001b[0;36m<module>\u001b[0;34m()\u001b[0m\n\u001b[1;32m      8\u001b[0m \u001b[0;34m\u001b[0m\u001b[0m\n\u001b[1;32m      9\u001b[0m         target_frame_, emb , i = train_step(E, G, D, optim_EG, optim_D, i , source_landmark , target_frame , context, \n\u001b[0;32m---> 10\u001b[0;31m                update_D_again=False, set_W=True, print_loss=False)\n\u001b[0m\u001b[1;32m     11\u001b[0m \u001b[0;34m\u001b[0m\u001b[0m\n\u001b[1;32m     12\u001b[0m     \u001b[0;32mif\u001b[0m \u001b[0mepoch\u001b[0m\u001b[0;34m%\u001b[0m\u001b[0;36m1\u001b[0m\u001b[0;34m==\u001b[0m\u001b[0;36m0\u001b[0m \u001b[0;32mor\u001b[0m \u001b[0mepoch\u001b[0m\u001b[0;34m+\u001b[0m\u001b[0;36m1\u001b[0m\u001b[0;34m==\u001b[0m\u001b[0mepochs\u001b[0m\u001b[0;34m:\u001b[0m\u001b[0;34m\u001b[0m\u001b[0m\n",
      "\u001b[0;32m~/ET082_15_MoveImg/torch/run_utils.py\u001b[0m in \u001b[0;36mtrain_step\u001b[0;34m(E, G, D, optim_EG, optim_D, i, source_landmark, target_frame, context, update_D_again, set_W, print_loss)\u001b[0m\n\u001b[1;32m    136\u001b[0m     \u001b[0mloss\u001b[0m\u001b[0;34m.\u001b[0m\u001b[0mbackward\u001b[0m\u001b[0;34m(\u001b[0m\u001b[0;34m)\u001b[0m\u001b[0;34m\u001b[0m\u001b[0m\n\u001b[1;32m    137\u001b[0m \u001b[0;34m\u001b[0m\u001b[0m\n\u001b[0;32m--> 138\u001b[0;31m     \u001b[0moptim_EG\u001b[0m\u001b[0;34m.\u001b[0m\u001b[0mstep\u001b[0m\u001b[0;34m(\u001b[0m\u001b[0;34m)\u001b[0m\u001b[0;34m\u001b[0m\u001b[0m\n\u001b[0m\u001b[1;32m    139\u001b[0m     \u001b[0moptim_D\u001b[0m\u001b[0;34m.\u001b[0m\u001b[0mstep\u001b[0m\u001b[0;34m(\u001b[0m\u001b[0;34m)\u001b[0m\u001b[0;34m\u001b[0m\u001b[0m\n\u001b[1;32m    140\u001b[0m \u001b[0;34m\u001b[0m\u001b[0m\n",
      "\u001b[0;32m/opt/conda/lib/python3.6/site-packages/torch/optim/adam.py\u001b[0m in \u001b[0;36mstep\u001b[0;34m(self, closure)\u001b[0m\n\u001b[1;32m     92\u001b[0m                 \u001b[0;31m# Decay the first and second moment running average coefficient\u001b[0m\u001b[0;34m\u001b[0m\u001b[0;34m\u001b[0m\u001b[0m\n\u001b[1;32m     93\u001b[0m                 \u001b[0mexp_avg\u001b[0m\u001b[0;34m.\u001b[0m\u001b[0mmul_\u001b[0m\u001b[0;34m(\u001b[0m\u001b[0mbeta1\u001b[0m\u001b[0;34m)\u001b[0m\u001b[0;34m.\u001b[0m\u001b[0madd_\u001b[0m\u001b[0;34m(\u001b[0m\u001b[0;36m1\u001b[0m \u001b[0;34m-\u001b[0m \u001b[0mbeta1\u001b[0m\u001b[0;34m,\u001b[0m \u001b[0mgrad\u001b[0m\u001b[0;34m)\u001b[0m\u001b[0;34m\u001b[0m\u001b[0m\n\u001b[0;32m---> 94\u001b[0;31m                 \u001b[0mexp_avg_sq\u001b[0m\u001b[0;34m.\u001b[0m\u001b[0mmul_\u001b[0m\u001b[0;34m(\u001b[0m\u001b[0mbeta2\u001b[0m\u001b[0;34m)\u001b[0m\u001b[0;34m.\u001b[0m\u001b[0maddcmul_\u001b[0m\u001b[0;34m(\u001b[0m\u001b[0;36m1\u001b[0m \u001b[0;34m-\u001b[0m \u001b[0mbeta2\u001b[0m\u001b[0;34m,\u001b[0m \u001b[0mgrad\u001b[0m\u001b[0;34m,\u001b[0m \u001b[0mgrad\u001b[0m\u001b[0;34m)\u001b[0m\u001b[0;34m\u001b[0m\u001b[0m\n\u001b[0m\u001b[1;32m     95\u001b[0m                 \u001b[0;32mif\u001b[0m \u001b[0mamsgrad\u001b[0m\u001b[0;34m:\u001b[0m\u001b[0;34m\u001b[0m\u001b[0m\n\u001b[1;32m     96\u001b[0m                     \u001b[0;31m# Maintains the maximum of all 2nd moment running avg. till now\u001b[0m\u001b[0;34m\u001b[0m\u001b[0;34m\u001b[0m\u001b[0m\n",
      "\u001b[0;31mKeyboardInterrupt\u001b[0m: "
     ]
    }
   ],
   "source": [
    "epochs = 100\n",
    "for epoch in range(epochs):\n",
    "    print(epoch)\n",
    "    \n",
    "    for i , source_landmark , target_frame , context in data_loader:\n",
    "        \n",
    "        source_landmark , target_frame , context = source_landmark.cuda() , target_frame.cuda() , context.cuda()\n",
    "        \n",
    "        target_frame_, emb , i = train_step(E, G, D, optim_EG, optim_D, i , source_landmark , target_frame , context, \n",
    "               update_D_again=False, set_W=True, print_loss=False)\n",
    "        \n",
    "    if epoch%1==0 or epoch+1==epochs:\n",
    "        i , source_landmark , target_frame , context = next(iter(data_loader)) \n",
    "        source_landmark , target_frame , context = source_landmark.cuda() , target_frame.cuda() , context.cuda()\n",
    "        # print loss\n",
    "        target_frame_, emb , i = train_step(E, G, D, optim_EG, optim_D, i , source_landmark , target_frame , context, \n",
    "               update_D_again=False, set_W=False, print_loss=True,\n",
    "                                           )\n",
    "\n",
    "        save_n_draw_result(E, G, source_landmark , target_frame , context,\n",
    "                           save_out_img_path='./result/', \n",
    "                           save_out_img_fname=f'{str(epoch).zfill(6)}.jpg'\n",
    "                          )\n",
    "    if epoch%5==0 or epoch+1==epochs:\n",
    "        save_model(E, G, D, save_model_folder=\"./model/\", postfix=str(epoch) )\n"
   ]
  },
  {
   "cell_type": "code",
   "execution_count": 16,
   "metadata": {},
   "outputs": [],
   "source": [
    "# 清除資訊\n",
    "! rm -rf model\n",
    "! rm -rf result\n",
    "! rm -rf vgg_face_dag.pth\n"
   ]
  },
  {
   "cell_type": "code",
   "execution_count": null,
   "metadata": {},
   "outputs": [],
   "source": []
  }
 ],
 "metadata": {
  "kernelspec": {
   "display_name": "Python 3",
   "language": "python",
   "name": "python3"
  },
  "language_info": {
   "codemirror_mode": {
    "name": "ipython",
    "version": 3
   },
   "file_extension": ".py",
   "mimetype": "text/x-python",
   "name": "python",
   "nbconvert_exporter": "python",
   "pygments_lexer": "ipython3",
   "version": "3.6.6"
  }
 },
 "nbformat": 4,
 "nbformat_minor": 4
}
