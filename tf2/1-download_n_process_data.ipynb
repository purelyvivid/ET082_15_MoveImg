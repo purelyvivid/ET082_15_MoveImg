{
 "cells": [
  {
   "cell_type": "markdown",
   "metadata": {},
   "source": [
    "# Download Dataset and upzip"
   ]
  },
  {
   "cell_type": "raw",
   "metadata": {},
   "source": [
    "%%bash\n",
    "# download data ~27G \n",
    "wget -O raw/dense-face-frames.tar.gz http://www.robots.ox.ac.uk/~vgg/research/CMBiometrics/data/dense-face-frames.tar.gz\n",
    "tar zxvf raw/dense-face-frames.tar.gz"
   ]
  },
  {
   "cell_type": "markdown",
   "metadata": {},
   "source": [
    "# Install Package"
   ]
  },
  {
   "cell_type": "raw",
   "metadata": {},
   "source": [
    "! pip install numpy==1.15.0 # face_alignment的numpy版本不能太高\n",
    "! pip install torch==1.0.0 # face_alignment的torch版本不能太高\n",
    "! pip install face_alignment"
   ]
  },
  {
   "cell_type": "markdown",
   "metadata": {},
   "source": [
    "# Create Folder"
   ]
  },
  {
   "cell_type": "raw",
   "metadata": {},
   "source": [
    "! mkdir raw data_npy data"
   ]
  },
  {
   "cell_type": "markdown",
   "metadata": {},
   "source": [
    "# Process Raw Image to Landmark and Save"
   ]
  },
  {
   "cell_type": "code",
   "execution_count": 1,
   "metadata": {},
   "outputs": [
    {
     "name": "stderr",
     "output_type": "stream",
     "text": [
      "/opt/conda/lib/python3.6/importlib/_bootstrap.py:219: RuntimeWarning: numpy.dtype size changed, may indicate binary incompatibility. Expected 96, got 88\n",
      "  return f(*args, **kwds)\n"
     ]
    }
   ],
   "source": [
    "import glob\n",
    "import imageio\n",
    "from plot_landmarks import plot_landmarks\n",
    "from face_alignment import FaceAlignment, LandmarksType"
   ]
  },
  {
   "cell_type": "code",
   "execution_count": 2,
   "metadata": {},
   "outputs": [],
   "source": [
    "clips = glob.glob('../data/unzippedIntervalFaces/data/*/*/*/*/')"
   ]
  },
  {
   "cell_type": "code",
   "execution_count": 3,
   "metadata": {},
   "outputs": [],
   "source": [
    "fa = FaceAlignment(LandmarksType._2D, device='cuda:0')"
   ]
  },
  {
   "cell_type": "code",
   "execution_count": 4,
   "metadata": {},
   "outputs": [],
   "source": [
    "save_folder = \"./data_npy/\""
   ]
  },
  {
   "cell_type": "code",
   "execution_count": 5,
   "metadata": {},
   "outputs": [],
   "source": [
    "count=0\n",
    "\n",
    "for clip in clips:\n",
    "    print(count)\n",
    "    count=count+1\n",
    "    f_ = clip.split('/')\n",
    "    base = save_folder\n",
    "    file_name = base + f_[4] +'_'+ f_[6] + '_' + f_[7]\n",
    "    frames = sorted(glob.glob(clip + '*.jpg'))\n",
    "    \n",
    "    frames_data = []\n",
    "    landmarks_data = []\n",
    "    for frame in frames:\n",
    "        frame_data = imageio.imread(frame)\n",
    "        frames_data.append(frame_data)\n",
    "        \n",
    "        preds = fa.get_landmarks(frame_data)\n",
    "        landmark_data = plot_landmarks(frame_data.shape , preds[0])\n",
    "        landmarks_data.append(np.array(landmark_data))\n",
    "    \n",
    "    output = {'frames':np.array(frames_data),\n",
    "              'landmarks':np.array(landmarks_data)}\n",
    "    np.save(file_name , output)"
   ]
  },
  {
   "cell_type": "markdown",
   "metadata": {},
   "source": [
    "# Move Partial data from folder './data_npy/' to folder './data/'"
   ]
  },
  {
   "cell_type": "raw",
   "metadata": {},
   "source": [
    "%%bash\n",
    "cp './data_npy/Alice_Eve_qARhKvGWef0_1.npy' './data/Alice_Eve_qARhKvGWef0_1.npy'\n",
    "cp './data_npy/Rob_Reiner_Vzqmi3MAixQ_121.npy' './data//Rob_Reiner_Vzqmi3MAixQ_121.npy'\n",
    "cp './data_npy/Bruno_Mars_gmn2h7a4dRE_7.npy' './data/Bruno_Mars_gmn2h7a4dRE_7.npy'\n",
    "cp './data_npy/Nancy_Cartwright_F2KB8z7-T-w_8.npy' './data/Nancy_Cartwright_F2KB8z7-T-w_8.npy'"
   ]
  },
  {
   "cell_type": "code",
   "execution_count": null,
   "metadata": {},
   "outputs": [],
   "source": []
  }
 ],
 "metadata": {
  "kernelspec": {
   "display_name": "Python 3",
   "language": "python",
   "name": "python3"
  },
  "language_info": {
   "codemirror_mode": {
    "name": "ipython",
    "version": 3
   },
   "file_extension": ".py",
   "mimetype": "text/x-python",
   "name": "python",
   "nbconvert_exporter": "python",
   "pygments_lexer": "ipython3",
   "version": "3.6.6"
  }
 },
 "nbformat": 4,
 "nbformat_minor": 2
}
